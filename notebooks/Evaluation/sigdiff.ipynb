{
 "cells": [
  {
   "cell_type": "code",
   "execution_count": null,
   "metadata": {},
   "outputs": [],
   "source": [
    "import numpy as np\n",
    "import pandas as pd\n",
    "import scipy.stats as stats\n",
    "import matplotlib.pyplot as plt\n",
    "\n",
    "def perform_ttest(standard, hybrid):\n",
    "    # Standard BLEU scores \n",
    "    standard_scores = standard['BLEU_SCORE'].dropna().to_numpy()\n",
    "\n",
    "    # Hybrid BLEU scores\n",
    "    hybrid_scores = hybrid['BLEU_SCORE'].dropna().to_numpy()\n",
    "\n",
    "    # Perform t-test to determine if the difference in BLEU scores is significant\n",
    "    t, p = stats.ttest_ind(standard_scores, hybrid_scores)\n",
    "\n",
    "    print(\"t-statistic: \", t)\n",
    "    print(\"p-value: \", p)\n",
    "\n",
    "    # Evaluate if the null hypothesis can be rejected based on the p-value\n",
    "    if p < 0.05: # standrd significance level\n",
    "        print(\"Null hypothesis rejected, significant difference between the two models.\")\n",
    "    else:\n",
    "        print(\"Null hypothesis not rejected, no significant difference between the two models.\")\n",
    "    \n",
    "    # Plot the histograms\n",
    "    plt.hist(standard_scores, bins=30, alpha=0.5, label='Standard')\n",
    "    plt.hist(hybrid_scores, bins=30, alpha=0.5, label='Hybrid')\n",
    "    plt.legend()\n",
    "    plt.title(\"Kurtosis of Datasets\")\n",
    "    plt.xlabel(\"Value\")\n",
    "    plt.ylabel(\"Frequency\")\n",
    "\n",
    "    plt.show()"
   ]
  },
  {
   "cell_type": "code",
   "execution_count": null,
   "metadata": {},
   "outputs": [],
   "source": [
    "standard = pd.read_csv('../../data/scores/Ilokano to Tagalog/Standard Translator/test/test_bleu_il-tl.csv')\n",
    "hybrid = pd.read_csv('../../data/scores/Ilokano to Tagalog/Hybrid Translator/test/test_bleu_il-tl.csv')\n",
    "print(\"ILOKANO TO TAGALOG:\")\n",
    "perform_ttest(standard, hybrid)\n",
    "\n",
    "standard = pd.read_csv('../../data/scores/Tagalog to Ilokano/Standard Translator/test/test_bleu_tl-il.csv')\n",
    "hybrid = pd.read_csv('../../data/scores/Tagalog to Ilokano/Hybrid Translator/test/test_bleu_tl-il.csv')\n",
    "print(\"\\nTAGALOG TO ILOKANO:\")\n",
    "perform_ttest(standard, hybrid)"
   ]
  }
 ],
 "metadata": {
  "kernelspec": {
   "display_name": "Python 3",
   "language": "python",
   "name": "python3"
  },
  "language_info": {
   "codemirror_mode": {
    "name": "ipython",
    "version": 3
   },
   "file_extension": ".py",
   "mimetype": "text/x-python",
   "name": "python",
   "nbconvert_exporter": "python",
   "pygments_lexer": "ipython3",
   "version": "3.10.1"
  },
  "orig_nbformat": 4,
  "vscode": {
   "interpreter": {
    "hash": "fd5e40cb983109c15fc1053f6f3e661cc97e68e07c1758cdbd2441c60186ce19"
   }
  }
 },
 "nbformat": 4,
 "nbformat_minor": 2
}
